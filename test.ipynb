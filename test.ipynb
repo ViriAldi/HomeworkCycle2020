{
 "cells": [
  {
   "cell_type": "code",
   "execution_count": null,
   "metadata": {
    "collapsed": true
   },
   "outputs": [],
   "source": [
    "from PIL import Image\n",
    "from mpl_toolkits import mplot3d\n",
    "import matplotlib.pyplot as plt\n",
    "import numpy as np\n",
    "from matplotlib import cm\n",
    "import pandas\n",
    "\n",
    "\n",
    "def read_data(path):\n",
    "\n",
    "    im = Image.open(path)\n",
    "    imarray = np.array(im)\n",
    "    imarray = imarray.T\n",
    "\n",
    "    return imarray\n",
    "\n",
    "\n",
    "def get_elevation(coord, corner_coord, grid):\n",
    "\n",
    "    corner_lat, corner_lon = corner_coord\n",
    "    lat, lon = coord\n",
    "\n",
    "    ind_lon = int(3 * abs(corner_lon - lon) // 0.00250)\n",
    "    ind_lat = int(3 * abs(corner_lat - lat) // 0.00250)\n",
    "\n",
    "    return grid[ind_lon][ind_lat]\n",
    "\n",
    "\n",
    "def create_plot_data(coord, size, corner_coord, grid):\n",
    "\n",
    "    # creating arrays with coordinates\n",
    "    coords_x = np.array([x + 0.00083333 * i \n",
    "                for i in range(-size, size + 1)] * (2 * size + 1))\n",
    "    coords_y = np.array([y + 0.00083333 * i for i in range(-size, size + 1) \n",
    "                for j in range(2 * size + 1)])\n",
    "    coords_z = np.array([get_elevation(t, corner_coord, grid) \n",
    "                for t in zip(coords_x, coords_y)])\n",
    "\n",
    "    # scaling coordinates\n",
    "    coords_x = coords_x * 120000\n",
    "    coords_y = coords_y * 100000\n",
    "\n",
    "    # creating 2D arrays\n",
    "    coords_x.resize(2 * size + 1, 2 * size + 1)\n",
    "    coords_y.resize(2 * size + 1, 2 * size + 1)\n",
    "    coords_z.resize(2 * size + 1, 2 * size + 1)\n",
    "\n",
    "    return (coords_x, coords_y, coords_z)\n",
    "\n",
    "\n",
    "def vizualize(plot_data):\n",
    "    X, Y, Z = plot_data\n",
    "\n",
    "    ax = plt.axes(projection='3d')\n",
    "    ax.plot_surface(X, Y, Z, cmap=cm.coolwarm, linewidth=0, antialiased=False, rcount = 500, ccount = 500)\n",
    "\n",
    "    # Create cubic bounding box to simulate equal aspect ratio\n",
    "    max_range = np.array([X.max()-X.min(), Y.max()-Y.min(), Z.max()-Z.min()]).max()\n",
    "    Xb = 0.5*max_range*np.mgrid[-1:2:2,-1:2:2,-1:2:2][0].flatten() + 0.5*(X.max()+X.min())\n",
    "    Yb = 0.5*max_range*np.mgrid[-1:2:2,-1:2:2,-1:2:2][1].flatten() + 0.5*(Y.max()+Y.min())\n",
    "    Zb = 0.5*max_range*np.mgrid[-1:2:2,-1:2:2,-1:2:2][2].flatten() + 0.5*(Z.max()+Z.min())\n",
    "\n",
    "    for xb, yb, zb in zip(Xb, Yb, Zb):\n",
    "        ax.plot([xb], [yb], [zb], 'w')\n",
    "\n",
    "    plt.grid()\n",
    "    plt.show()\n",
    "\n",
    "\n",
    "if __name__ == \"__main__\":\n",
    "    x, y = [45.976607, 7.658548]\n",
    "    size = 30\n",
    "    grid = read_data(\"geofiles/swizerland.tif\")\n",
    "    plot_data = create_plot_data((x, y), size, (50, 5), grid)\n",
    "\n",
    "    vizualize(plot_data)\n",
    "\n"
   ]
  }
 ],
 "metadata": {
  "kernelspec": {
   "display_name": "Python 3",
   "language": "python",
   "name": "python3"
  },
  "language_info": {
   "codemirror_mode": {
    "name": "ipython",
    "version": 2
   },
   "file_extension": ".py",
   "mimetype": "text/x-python",
   "name": "python",
   "nbconvert_exporter": "python",
   "pygments_lexer": "ipython2",
   "version": "2.7.6"
  },
  "pycharm": {
   "stem_cell": {
    "cell_type": "raw",
    "source": [],
    "metadata": {
     "collapsed": false
    }
   }
  }
 },
 "nbformat": 4,
 "nbformat_minor": 0
}